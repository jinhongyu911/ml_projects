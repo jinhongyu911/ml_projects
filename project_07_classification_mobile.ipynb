{
 "cells": [
  {
   "cell_type": "markdown",
   "metadata": {},
   "source": [
    "# Project_07 - Classification (Mobile)"
   ]
  },
  {
   "cell_type": "markdown",
   "metadata": {},
   "source": [
    "**Project description**\n",
    "<br>Mobile carrier Megaline has found out that many of their subscribers use legacy plans.\n",
    "<br>They want to develop a model that would analyze subscribers' behavior and recommend one of Megaline's newer plans: Smart or Ultra.\n",
    "<br>You have access to behavior data about subscribers who have already switched to the new plans (from the project for the Statistical Data Analysis course). For this classification task, you need to develop a model that will pick the right plan. <br>Since you’ve already performed the data preprocessing step, you can move straight to creating the model.\n",
    "<br>Develop a model with the highest possible accuracy. In this project, the threshold for accuracy is 0.75. Check the accuracy using the test dataset.\n",
    "\n",
    "**Project goal**\n",
    "<br>Analyze the dataset, preprosess and devide the dataset for classification modeling.\n",
    "<br>Apply different models to see which model has the hight accuracy in predicting users's plan category. \n",
    "\n",
    "**Project Workflow**\n",
    "<br>Import dataset and perform EDA\n",
    "<br>Split the source data into a training set, a validation set, and a test set.\n",
    "<br>Investigate the quality of different models by changing hyperparameters.\n",
    "<br>Check the quality of the model using the test set.\n",
    "\n",
    "**Data description**\n",
    "<br>Every observation in the dataset contains monthly behavior information about one user.\n",
    "<br>The information given is as follows:\n",
    "<br>сalls — number of calls,\n",
    "<br>minutes — total call duration in minutes,\n",
    "<br>messages — number of text messages,\n",
    "<br>mb_used — Internet traffic used in MB,\n",
    "<br>is_ultra — plan for the current month (Ultra - 1, Smart - 0)."
   ]
  },
  {
   "cell_type": "code",
   "execution_count": 5,
   "metadata": {},
   "outputs": [],
   "source": [
    "import pandas as pd\n",
    "from sklearn.tree import DecisionTreeClassifier\n",
    "from sklearn.ensemble import RandomForestClassifier\n",
    "from sklearn.linear_model import LogisticRegression\n",
    "from sklearn.model_selection import train_test_split\n",
    "from sklearn.metrics import accuracy_score"
   ]
  },
  {
   "cell_type": "code",
   "execution_count": 6,
   "metadata": {
    "scrolled": true
   },
   "outputs": [
    {
     "data": {
      "text/html": [
       "<div>\n",
       "<style scoped>\n",
       "    .dataframe tbody tr th:only-of-type {\n",
       "        vertical-align: middle;\n",
       "    }\n",
       "\n",
       "    .dataframe tbody tr th {\n",
       "        vertical-align: top;\n",
       "    }\n",
       "\n",
       "    .dataframe thead th {\n",
       "        text-align: right;\n",
       "    }\n",
       "</style>\n",
       "<table border=\"1\" class=\"dataframe\">\n",
       "  <thead>\n",
       "    <tr style=\"text-align: right;\">\n",
       "      <th></th>\n",
       "      <th>calls</th>\n",
       "      <th>minutes</th>\n",
       "      <th>messages</th>\n",
       "      <th>mb_used</th>\n",
       "      <th>is_ultra</th>\n",
       "    </tr>\n",
       "  </thead>\n",
       "  <tbody>\n",
       "    <tr>\n",
       "      <th>0</th>\n",
       "      <td>40.0</td>\n",
       "      <td>311.90</td>\n",
       "      <td>83.0</td>\n",
       "      <td>19915.42</td>\n",
       "      <td>0</td>\n",
       "    </tr>\n",
       "    <tr>\n",
       "      <th>1</th>\n",
       "      <td>85.0</td>\n",
       "      <td>516.75</td>\n",
       "      <td>56.0</td>\n",
       "      <td>22696.96</td>\n",
       "      <td>0</td>\n",
       "    </tr>\n",
       "    <tr>\n",
       "      <th>2</th>\n",
       "      <td>77.0</td>\n",
       "      <td>467.66</td>\n",
       "      <td>86.0</td>\n",
       "      <td>21060.45</td>\n",
       "      <td>0</td>\n",
       "    </tr>\n",
       "    <tr>\n",
       "      <th>3</th>\n",
       "      <td>106.0</td>\n",
       "      <td>745.53</td>\n",
       "      <td>81.0</td>\n",
       "      <td>8437.39</td>\n",
       "      <td>1</td>\n",
       "    </tr>\n",
       "    <tr>\n",
       "      <th>4</th>\n",
       "      <td>66.0</td>\n",
       "      <td>418.74</td>\n",
       "      <td>1.0</td>\n",
       "      <td>14502.75</td>\n",
       "      <td>0</td>\n",
       "    </tr>\n",
       "  </tbody>\n",
       "</table>\n",
       "</div>"
      ],
      "text/plain": [
       "   calls  minutes  messages   mb_used  is_ultra\n",
       "0   40.0   311.90      83.0  19915.42         0\n",
       "1   85.0   516.75      56.0  22696.96         0\n",
       "2   77.0   467.66      86.0  21060.45         0\n",
       "3  106.0   745.53      81.0   8437.39         1\n",
       "4   66.0   418.74       1.0  14502.75         0"
      ]
     },
     "metadata": {},
     "output_type": "display_data"
    },
    {
     "name": "stdout",
     "output_type": "stream",
     "text": [
      "<class 'pandas.core.frame.DataFrame'>\n",
      "RangeIndex: 3214 entries, 0 to 3213\n",
      "Data columns (total 5 columns):\n",
      " #   Column    Non-Null Count  Dtype  \n",
      "---  ------    --------------  -----  \n",
      " 0   calls     3214 non-null   float64\n",
      " 1   minutes   3214 non-null   float64\n",
      " 2   messages  3214 non-null   float64\n",
      " 3   mb_used   3214 non-null   float64\n",
      " 4   is_ultra  3214 non-null   int64  \n",
      "dtypes: float64(4), int64(1)\n",
      "memory usage: 125.7 KB\n"
     ]
    }
   ],
   "source": [
    "df = pd.read_csv('datasets/project_02_dataset.csv')\n",
    "display(df.head())\n",
    "df.info()"
   ]
  },
  {
   "cell_type": "code",
   "execution_count": 7,
   "metadata": {},
   "outputs": [],
   "source": [
    "#df.to_csv('~/work/project_datasets/project_02_dataset.csv', index=False, header=list(df.columns))"
   ]
  },
  {
   "cell_type": "code",
   "execution_count": 8,
   "metadata": {},
   "outputs": [
    {
     "data": {
      "text/plain": [
       "0"
      ]
     },
     "metadata": {},
     "output_type": "display_data"
    }
   ],
   "source": [
    "display(df.duplicated().sum())"
   ]
  },
  {
   "cell_type": "markdown",
   "metadata": {},
   "source": [
    "The datatypes look correct and there are no duplicated rows."
   ]
  },
  {
   "cell_type": "code",
   "execution_count": 9,
   "metadata": {
    "scrolled": true
   },
   "outputs": [
    {
     "name": "stdout",
     "output_type": "stream",
     "text": [
      "(1928, 5) (643, 5) (643, 5)\n"
     ]
    }
   ],
   "source": [
    "train, test = train_test_split(df, test_size=0.4, random_state=12345)\n",
    "valid, test = train_test_split(test, test_size=0.5, random_state=12345)\n",
    "print(train.shape, valid.shape, test.shape)"
   ]
  },
  {
   "cell_type": "markdown",
   "metadata": {},
   "source": [
    "Split the data into 3 parts with the following proportions, with the training set having the most data for training the model.\n",
    "<br>Train: 60%, Valid: 20%, Test: 20%"
   ]
  },
  {
   "cell_type": "code",
   "execution_count": 10,
   "metadata": {},
   "outputs": [],
   "source": [
    "features_train = train.drop(['is_ultra'], axis=1)\n",
    "target_train = train['is_ultra']\n",
    "\n",
    "features_valid = valid.drop(['is_ultra'], axis=1)\n",
    "target_valid = valid['is_ultra']\n",
    "\n",
    "features_test = test.drop(['is_ultra'], axis=1)\n",
    "target_test = test['is_ultra']"
   ]
  },
  {
   "cell_type": "markdown",
   "metadata": {},
   "source": [
    "Sliced each dataset into their corresponding feature and target dataset for modeling in the next sections."
   ]
  },
  {
   "cell_type": "code",
   "execution_count": 11,
   "metadata": {},
   "outputs": [
    {
     "name": "stdout",
     "output_type": "stream",
     "text": [
      "Best Train Accuracy: 0.7853810264385692 | Best Train Depth: 3\n",
      "Final Accuracy: 0.7791601866251944\n"
     ]
    }
   ],
   "source": [
    "final_model = None\n",
    "best_result = 0\n",
    "best_depth = None\n",
    "for depth in range(1, 11):\n",
    "    model = DecisionTreeClassifier(random_state=12345, max_depth=depth)\n",
    "    model.fit(features_train, target_train)\n",
    "    predictions_valid = model.predict(features_valid)\n",
    "    result = accuracy_score(target_valid, predictions_valid)\n",
    "    if result > best_result:\n",
    "        best_result = result\n",
    "        best_depth = depth\n",
    "        final_model = model\n",
    "print('Best Train Accuracy:', best_result, '|', 'Best Train Depth:', best_depth)\n",
    "\n",
    "final_model.fit(features_train, target_train)\n",
    "predictions_test = final_model.predict(features_test)\n",
    "final_accuracy = accuracy_score(target_test, predictions_test)\n",
    "print('Final Accuracy:', final_accuracy)"
   ]
  },
  {
   "cell_type": "markdown",
   "metadata": {},
   "source": [
    "The first model used is a decision tree model, with the depth as the parameter to optimize.\n",
    "<br>Used the train dataset to train the model, valid dataset to validate the model by comparing the target and the predictions.\n",
    "<br>Finally, using the depth variable that yielded the hight accuracy, the test dataset was used to check final model's accuracy.\n",
    "<br>The final model accuracy was ~0.779, which is higher than the required threshold of 0.75."
   ]
  },
  {
   "cell_type": "code",
   "execution_count": 12,
   "metadata": {},
   "outputs": [
    {
     "name": "stdout",
     "output_type": "stream",
     "text": [
      "Best Train Accuracy: 0.8087091757387247 | Best Train Estimators: 40 | Best Train Depth: 8\n",
      "Final Accuracy: 0.7962674961119751\n"
     ]
    }
   ],
   "source": [
    "final_model = None\n",
    "best_result = 0\n",
    "best_estimator = None\n",
    "best_depth = None\n",
    "for estimator in range(10, 51, 10):\n",
    "    for depth in range(1, 11):\n",
    "        model = RandomForestClassifier(random_state=12345, n_estimators=estimator, max_depth=depth)\n",
    "        model.fit(features_train, target_train)\n",
    "        predictions_valid = model.predict(features_valid)\n",
    "        result = accuracy_score(target_valid, predictions_valid)\n",
    "        if result > best_result:\n",
    "            best_result = result\n",
    "            best_estimator = estimator\n",
    "            best_depth = depth\n",
    "            final_model = model\n",
    "print('Best Train Accuracy:', best_result, '|', 'Best Train Estimators:', best_estimator, '|', 'Best Train Depth:', best_depth)\n",
    "\n",
    "final_model.fit(features_train, target_train)\n",
    "predictions_test = final_model.predict(features_test)\n",
    "final_accuracy = accuracy_score(target_test, predictions_test)\n",
    "print('Final Accuracy:', final_accuracy)   "
   ]
  },
  {
   "cell_type": "markdown",
   "metadata": {},
   "source": [
    "The second model used is a random forest model, with the number of estimators (trees) as the parameter to optimize.\n",
    "<br>Used the train dataset to train the model, valid dataset to validate the model by comparing the target and the predictions.\n",
    "<br>Finally, applying the n_estimator that yielded the hight accuracy, the test dataset was used to check final model's accuracy.\n",
    "<br>The final model accuracy was ~0.796, which is higher than the required threshold of 0.75."
   ]
  },
  {
   "cell_type": "code",
   "execution_count": 13,
   "metadata": {
    "scrolled": true
   },
   "outputs": [
    {
     "name": "stdout",
     "output_type": "stream",
     "text": [
      "Best Train Accuracy: 0.7542768273716952 | Best Train Solver: liblinear\n",
      "Final Accuracy: 0.7262830482115086\n"
     ]
    }
   ],
   "source": [
    "final_model = None\n",
    "best_result = 0\n",
    "best_solver = None\n",
    "solver_list = ['liblinear', 'lbfgs']\n",
    "for solver in solver_list:\n",
    "    model = LogisticRegression(random_state=12345, solver=solver)\n",
    "    model.fit(features_train, target_train)\n",
    "    predictions_valid = model.predict(features_valid)\n",
    "    result = accuracy_score(target_valid, predictions_valid)\n",
    "    if result > best_result:\n",
    "        best_result = result\n",
    "        best_solver = solver\n",
    "        final_model = model\n",
    "print('Best Train Accuracy:', best_result, '|', 'Best Train Solver:', best_solver)\n",
    "\n",
    "final_model.fit(features_train, target_train)\n",
    "predictions_test = final_model.predict(features_test)\n",
    "final_accuracy = accuracy_score(target_test, predictions_test)\n",
    "print('Final Accuracy:', final_accuracy)"
   ]
  },
  {
   "cell_type": "markdown",
   "metadata": {},
   "source": [
    "The third model used is a logistic regression, with the solver as the parameter to optimize.\n",
    "<br>Used the train dataset to train the model, valid dataset to validate the model by comparing the target and the predictions.\n",
    "<br>Finally, applying the solver that yielded the hight accuracy, the test dataset was used to check final model's accuracy.\n",
    "<br>The final model's accuracy was ~0.740, which is lower than the required threshold of 0.75."
   ]
  },
  {
   "cell_type": "markdown",
   "metadata": {},
   "source": [
    "## Conclusions\n",
    "\n",
    "After conducting test on three classification models, namely decision tree, random forest, and logistic regression,\n",
    "<br>I concluded that the random forest model achieved the highest level of accuracy (~0.796) in predicting user's plan category.\n",
    "<br>This outcome wasn't surprising, as random forest is as an ensemble tree model known to achieve high accuracy while being computationally intensive.\n",
    "<br>The results support the use of the random forest model as an effective tool for predicting user plan category."
   ]
  }
 ],
 "metadata": {
  "kernelspec": {
   "display_name": "Python 3 (ipykernel)",
   "language": "python",
   "name": "python3"
  },
  "language_info": {
   "codemirror_mode": {
    "name": "ipython",
    "version": 3
   },
   "file_extension": ".py",
   "mimetype": "text/x-python",
   "name": "python",
   "nbconvert_exporter": "python",
   "pygments_lexer": "ipython3",
   "version": "3.9.13"
  },
  "toc": {
   "base_numbering": 1,
   "nav_menu": {},
   "number_sections": true,
   "sideBar": true,
   "skip_h1_title": true,
   "title_cell": "Table of Contents",
   "title_sidebar": "Contents",
   "toc_cell": false,
   "toc_position": {},
   "toc_section_display": true,
   "toc_window_display": false
  }
 },
 "nbformat": 4,
 "nbformat_minor": 2
}
