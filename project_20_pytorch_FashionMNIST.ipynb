{
 "cells": [
  {
   "cell_type": "markdown",
   "metadata": {},
   "source": [
    "# Project_20 - Pytorch Image Classification (FashionMNIST)"
   ]
  },
  {
   "cell_type": "markdown",
   "metadata": {},
   "source": [
    "## Project Description\n",
    "1. Download the FashionMNIST dataset from torchvision.datasets\n",
    "2. Train a torch.nn model to classify the images\n",
    "3. Visualize the classification result"
   ]
  },
  {
   "cell_type": "code",
   "execution_count": 1,
   "metadata": {
    "id": "9EWjWp3AoPaD"
   },
   "outputs": [],
   "source": [
    "# import necessary packages\n",
    "import torch\n",
    "from torch.utils.data import DataLoader\n",
    "from torch import nn, optim\n",
    "import torchvision\n",
    "from torchvision import datasets, transforms\n",
    "import numpy as np\n",
    "import matplotlib.pyplot as plt\n",
    "from sklearn.metrics import accuracy_score, f1_score, ConfusionMatrixDisplay"
   ]
  },
  {
   "cell_type": "code",
   "execution_count": 2,
   "metadata": {
    "colab": {
     "base_uri": "https://localhost:8080/",
     "height": 36
    },
    "id": "5SH9rIv2r86e",
    "outputId": "b1ea10c3-1857-42be-974f-0328c9ac04c3"
   },
   "outputs": [
    {
     "data": {
      "text/plain": [
       "'cpu'"
      ]
     },
     "execution_count": 2,
     "metadata": {},
     "output_type": "execute_result"
    }
   ],
   "source": [
    "device='cuda' if torch.cuda.is_available() else 'cpu'\n",
    "device"
   ]
  },
  {
   "cell_type": "code",
   "execution_count": 3,
   "metadata": {
    "colab": {
     "base_uri": "https://localhost:8080/"
    },
    "id": "U7WFSX1poRaY",
    "outputId": "6df0a9f0-b2db-4a3e-829d-8965dda0edd3"
   },
   "outputs": [
    {
     "name": "stdout",
     "output_type": "stream",
     "text": [
      "Downloading http://fashion-mnist.s3-website.eu-central-1.amazonaws.com/train-images-idx3-ubyte.gz\n",
      "Downloading http://fashion-mnist.s3-website.eu-central-1.amazonaws.com/train-images-idx3-ubyte.gz to dataset\\FashionMNIST\\raw\\train-images-idx3-ubyte.gz\n"
     ]
    },
    {
     "name": "stderr",
     "output_type": "stream",
     "text": [
      "100%|█████████████████████████████████████████████████████████████████| 26421880/26421880 [00:18<00:00, 1418355.84it/s]\n"
     ]
    },
    {
     "name": "stdout",
     "output_type": "stream",
     "text": [
      "Extracting dataset\\FashionMNIST\\raw\\train-images-idx3-ubyte.gz to dataset\\FashionMNIST\\raw\n",
      "\n",
      "Downloading http://fashion-mnist.s3-website.eu-central-1.amazonaws.com/train-labels-idx1-ubyte.gz\n",
      "Downloading http://fashion-mnist.s3-website.eu-central-1.amazonaws.com/train-labels-idx1-ubyte.gz to dataset\\FashionMNIST\\raw\\train-labels-idx1-ubyte.gz\n"
     ]
    },
    {
     "name": "stderr",
     "output_type": "stream",
     "text": [
      "100%|████████████████████████████████████████████████████████████████████████| 29515/29515 [00:00<00:00, 142441.14it/s]\n"
     ]
    },
    {
     "name": "stdout",
     "output_type": "stream",
     "text": [
      "Extracting dataset\\FashionMNIST\\raw\\train-labels-idx1-ubyte.gz to dataset\\FashionMNIST\\raw\n",
      "\n",
      "Downloading http://fashion-mnist.s3-website.eu-central-1.amazonaws.com/t10k-images-idx3-ubyte.gz\n",
      "Downloading http://fashion-mnist.s3-website.eu-central-1.amazonaws.com/t10k-images-idx3-ubyte.gz to dataset\\FashionMNIST\\raw\\t10k-images-idx3-ubyte.gz\n"
     ]
    },
    {
     "name": "stderr",
     "output_type": "stream",
     "text": [
      "100%|████████████████████████████████████████████████████████████████████| 4422102/4422102 [00:08<00:00, 535784.38it/s]\n"
     ]
    },
    {
     "name": "stdout",
     "output_type": "stream",
     "text": [
      "Extracting dataset\\FashionMNIST\\raw\\t10k-images-idx3-ubyte.gz to dataset\\FashionMNIST\\raw\n",
      "\n",
      "Downloading http://fashion-mnist.s3-website.eu-central-1.amazonaws.com/t10k-labels-idx1-ubyte.gz\n",
      "Downloading http://fashion-mnist.s3-website.eu-central-1.amazonaws.com/t10k-labels-idx1-ubyte.gz to dataset\\FashionMNIST\\raw\\t10k-labels-idx1-ubyte.gz\n"
     ]
    },
    {
     "name": "stderr",
     "output_type": "stream",
     "text": [
      "100%|██████████████████████████████████████████████████████████████████████████████████████| 5148/5148 [00:00<?, ?it/s]"
     ]
    },
    {
     "name": "stdout",
     "output_type": "stream",
     "text": [
      "Extracting dataset\\FashionMNIST\\raw\\t10k-labels-idx1-ubyte.gz to dataset\\FashionMNIST\\raw\n",
      "\n"
     ]
    },
    {
     "name": "stderr",
     "output_type": "stream",
     "text": [
      "\n"
     ]
    }
   ],
   "source": [
    "train_data = datasets.FashionMNIST(\n",
    "            root='dataset',\n",
    "            download=True,\n",
    "            train=True,\n",
    "            transform=transforms.ToTensor()\n",
    ")\n",
    "\n",
    "test_data = datasets.FashionMNIST(\n",
    "            root='dataset',\n",
    "            download=True,\n",
    "            train=False,\n",
    "            transform=transforms.ToTensor()\n",
    ")"
   ]
  },
  {
   "cell_type": "code",
   "execution_count": 4,
   "metadata": {
    "colab": {
     "base_uri": "https://localhost:8080/"
    },
    "id": "RZ5R4MzwoRXB",
    "outputId": "4ef5a4dc-61d9-4e2b-dddd-d947ce3db8a4"
   },
   "outputs": [
    {
     "name": "stdout",
     "output_type": "stream",
     "text": [
      "60000 10000\n"
     ]
    }
   ],
   "source": [
    "print(len(train_data), len(test_data))"
   ]
  },
  {
   "cell_type": "code",
   "execution_count": 5,
   "metadata": {
    "id": "ifQRCxQvoRUe"
   },
   "outputs": [],
   "source": [
    "train_dl = DataLoader(\n",
    "    dataset=train_data,\n",
    "    batch_size=32,\n",
    "    shuffle=True,\n",
    ")\n",
    "\n",
    "test_dl = DataLoader(\n",
    "    dataset=test_data,\n",
    "    batch_size=32,\n",
    "    shuffle=True,\n",
    ")"
   ]
  },
  {
   "cell_type": "code",
   "execution_count": 6,
   "metadata": {
    "colab": {
     "base_uri": "https://localhost:8080/"
    },
    "id": "tQQZLyvVoRSC",
    "outputId": "cb6203ad-c498-4a29-e4ff-45762fc2c20c"
   },
   "outputs": [
    {
     "name": "stdout",
     "output_type": "stream",
     "text": [
      "1875 313\n",
      "torch.Size([32, 1, 28, 28])\n",
      "torch.Size([32])\n"
     ]
    }
   ],
   "source": [
    "print(len(train_dl), len(test_dl))\n",
    "print(next(iter(train_dl))[0].shape)\n",
    "print(next(iter(train_dl))[1].shape)"
   ]
  },
  {
   "cell_type": "code",
   "execution_count": 7,
   "metadata": {
    "colab": {
     "base_uri": "https://localhost:8080/"
    },
    "id": "uUk4N-25ssNP",
    "outputId": "5b205f83-2f46-4f8c-e9cb-f7b37d303a61"
   },
   "outputs": [
    {
     "data": {
      "text/plain": [
       "['T-shirt/top',\n",
       " 'Trouser',\n",
       " 'Pullover',\n",
       " 'Dress',\n",
       " 'Coat',\n",
       " 'Sandal',\n",
       " 'Shirt',\n",
       " 'Sneaker',\n",
       " 'Bag',\n",
       " 'Ankle boot']"
      ]
     },
     "execution_count": 7,
     "metadata": {},
     "output_type": "execute_result"
    }
   ],
   "source": [
    "class_names = train_data.classes\n",
    "class_names"
   ]
  },
  {
   "cell_type": "code",
   "execution_count": 8,
   "metadata": {
    "colab": {
     "base_uri": "https://localhost:8080/"
    },
    "id": "PWz7ew06sPdS",
    "outputId": "a9c2be51-4112-41f2-90e2-2bf4a370c648"
   },
   "outputs": [
    {
     "data": {
      "text/plain": [
       "torch.Size([1, 28, 28])"
      ]
     },
     "execution_count": 8,
     "metadata": {},
     "output_type": "execute_result"
    }
   ],
   "source": [
    "train_data[0][0].shape"
   ]
  },
  {
   "cell_type": "code",
   "execution_count": 9,
   "metadata": {
    "colab": {
     "base_uri": "https://localhost:8080/",
     "height": 1000
    },
    "id": "k4mtomPRoRPl",
    "outputId": "6aa2ce0b-5b74-4150-cd18-090f4afe330a"
   },
   "outputs": [
    {
     "data": {
      "image/png": "[encoded data removed]",
      "text/plain": [
       "<Figure size 300x300 with 1 Axes>"
      ]
     },
     "metadata": {},
     "output_type": "display_data"
    },
    {
     "data": {
      "image/png": "[encoded data removed]",
      "text/plain": [
       "<Figure size 300x300 with 1 Axes>"
      ]
     },
     "metadata": {},
     "output_type": "display_data"
    },
    {
     "data": {
      "image/png": "[encoded data removed]",
      "text/plain": [
       "<Figure size 300x300 with 1 Axes>"
      ]
     },
     "metadata": {},
     "output_type": "display_data"
    }
   ],
   "source": [
    "import random\n",
    "for i in random.sample(range(1, len(train_data)), k=3):\n",
    "  plt.figure(figsize=(3, 3))\n",
    "  plt.imshow(train_data[i][0].squeeze(dim=0), cmap='gray')\n",
    "  title_text = f'{train_data[i][1]} | {class_names[train_data[i][1]]}'\n",
    "  plt.title(title_text)\n",
    "  plt.axis(False)\n",
    "  plt.show()"
   ]
  },
  {
   "cell_type": "code",
   "execution_count": 10,
   "metadata": {
    "id": "Qtg05bJFoRNb"
   },
   "outputs": [],
   "source": [
    "class FashionMNISTModel_0(nn.Module):\n",
    "  def __init__(self, input_shape=1, hidden_shape=10, output_shape=10):\n",
    "    super().__init__()\n",
    "    self.vision_block_1 = nn.Sequential(\n",
    "        nn.Conv2d(in_channels=input_shape,\n",
    "                  out_channels=hidden_shape,\n",
    "                  kernel_size=3,\n",
    "                  stride=1,\n",
    "                  padding='same'),\n",
    "        nn.ReLU(),\n",
    "        nn.Conv2d(in_channels=hidden_shape,\n",
    "                  out_channels=hidden_shape,\n",
    "                  kernel_size=3,\n",
    "                  stride=1,\n",
    "                  padding='same'),\n",
    "        nn.ReLU(),\n",
    "        nn.MaxPool2d(kernel_size=2)\n",
    "    )\n",
    "\n",
    "    self.vision_block_2 = nn.Sequential(\n",
    "        nn.Conv2d(in_channels=hidden_shape,\n",
    "                  out_channels=hidden_shape,\n",
    "                  kernel_size=3,\n",
    "                  stride=1,\n",
    "                  padding='same'),\n",
    "        nn.ReLU(),\n",
    "        nn.Conv2d(in_channels=hidden_shape,\n",
    "                  out_channels=hidden_shape,\n",
    "                  kernel_size=3,\n",
    "                  stride=1,\n",
    "                  padding='same'),\n",
    "        nn.ReLU(),\n",
    "        nn.MaxPool2d(kernel_size=2)\n",
    "    )\n",
    "\n",
    "    self.classifier = nn.Sequential(\n",
    "        nn.Flatten(),\n",
    "        nn.Linear(in_features=hidden_shape*7*7,\n",
    "                  out_features=output_shape)\n",
    "    )\n",
    "\n",
    "  def forward(self, x):\n",
    "    x = self.vision_block_1(x)\n",
    "    x = self.vision_block_2(x)\n",
    "    x = self.classifier(x)\n",
    "    return x"
   ]
  },
  {
   "cell_type": "code",
   "execution_count": 11,
   "metadata": {
    "colab": {
     "base_uri": "https://localhost:8080/"
    },
    "id": "tPP_OjQxoRLG",
    "outputId": "4d7fc4d6-3795-4f3f-ceed-313151232cf6"
   },
   "outputs": [
    {
     "data": {
      "text/plain": [
       "FashionMNISTModel_0(\n",
       "  (vision_block_1): Sequential(\n",
       "    (0): Conv2d(1, 10, kernel_size=(3, 3), stride=(1, 1), padding=same)\n",
       "    (1): ReLU()\n",
       "    (2): Conv2d(10, 10, kernel_size=(3, 3), stride=(1, 1), padding=same)\n",
       "    (3): ReLU()\n",
       "    (4): MaxPool2d(kernel_size=2, stride=2, padding=0, dilation=1, ceil_mode=False)\n",
       "  )\n",
       "  (vision_block_2): Sequential(\n",
       "    (0): Conv2d(10, 10, kernel_size=(3, 3), stride=(1, 1), padding=same)\n",
       "    (1): ReLU()\n",
       "    (2): Conv2d(10, 10, kernel_size=(3, 3), stride=(1, 1), padding=same)\n",
       "    (3): ReLU()\n",
       "    (4): MaxPool2d(kernel_size=2, stride=2, padding=0, dilation=1, ceil_mode=False)\n",
       "  )\n",
       "  (classifier): Sequential(\n",
       "    (0): Flatten(start_dim=1, end_dim=-1)\n",
       "    (1): Linear(in_features=490, out_features=10, bias=True)\n",
       "  )\n",
       ")"
      ]
     },
     "execution_count": 11,
     "metadata": {},
     "output_type": "execute_result"
    }
   ],
   "source": [
    "model = FashionMNISTModel_0(1, 10, 10).to(device)\n",
    "model"
   ]
  },
  {
   "cell_type": "code",
   "execution_count": 12,
   "metadata": {
    "colab": {
     "base_uri": "https://localhost:8080/"
    },
    "id": "sF2o7_-bwlp-",
    "outputId": "b42aa904-a523-4d0d-9b5e-d71242c9cb8e"
   },
   "outputs": [
    {
     "name": "stdout",
     "output_type": "stream",
     "text": [
      "torch.Size([1, 1, 28, 28])\n"
     ]
    },
    {
     "data": {
      "text/plain": [
       "tensor([[ 0.0012,  0.0021,  0.0084,  0.0136,  0.0217, -0.0014, -0.0344,  0.0366,\n",
       "         -0.0254, -0.0047]], grad_fn=<AddmmBackward0>)"
      ]
     },
     "execution_count": 12,
     "metadata": {},
     "output_type": "execute_result"
    }
   ],
   "source": [
    "print(train_data[0][0].unsqueeze(dim=0).shape)\n",
    "y_pred = model(train_data[0][0].unsqueeze(dim=0).to(device))\n",
    "y_pred"
   ]
  },
  {
   "cell_type": "code",
   "execution_count": 22,
   "metadata": {
    "id": "-2wW6Jg1yaCX"
   },
   "outputs": [],
   "source": [
    "loss_fn = nn.CrossEntropyLoss()\n",
    "optimizer = optim.Adam(params=model.parameters(), lr=0.001)"
   ]
  },
  {
   "cell_type": "code",
   "execution_count": 23,
   "metadata": {
    "id": "GZJhI7Eg2Vok"
   },
   "outputs": [],
   "source": [
    "epochs = 5\n",
    "epoch_count = []\n",
    "train_losses = []\n",
    "test_losses = []"
   ]
  },
  {
   "cell_type": "code",
   "execution_count": 24,
   "metadata": {
    "id": "_2nLJvMHoRIr"
   },
   "outputs": [],
   "source": [
    "def train_step(model, dataloader, loss_fn, acc_fn, optimizer):\n",
    "  model.train()\n",
    "  train_loss, train_acc = 0, 0\n",
    "\n",
    "  for batch, (X, y) in enumerate(dataloader):\n",
    "    X, y = X.to(device), y.to(device)\n",
    "\n",
    "    y_logits = model(X)\n",
    "    y_proba = torch.softmax(y_logits, dim=1)\n",
    "    y_pred = torch.argmax(y_proba, dim=1)\n",
    "\n",
    "    loss = loss_fn(y_logits, y)\n",
    "    optimizer.zero_grad()\n",
    "    loss.backward()\n",
    "    optimizer.step()\n",
    "\n",
    "    train_loss += loss\n",
    "    train_acc += acc_fn(y.cpu(), y_pred.cpu())\n",
    "\n",
    "  train_loss /= len(dataloader)\n",
    "  train_acc /= len(dataloader)\n",
    "  train_losses.append(train_loss.cpu().detach().numpy())\n",
    "\n",
    "  print(f'Train_loss: {train_loss:.4f} | Train_acc: {train_acc:.4f}')\n",
    "\n",
    "def test_step(model, dataloader, loss_fn, acc_fn):\n",
    "  model.eval()\n",
    "  with torch.inference_mode():\n",
    "    test_loss, test_acc = 0, 0\n",
    "    for batch, (X, y) in enumerate(dataloader):\n",
    "      X, y = X.to(device), y.to(device)\n",
    "\n",
    "      y_logits = model(X)\n",
    "      y_proba = torch.softmax(y_logits, dim=1)\n",
    "      y_pred = torch.argmax(y_proba, dim=1)\n",
    "\n",
    "      test_loss += loss_fn(y_logits, y)\n",
    "      test_acc += acc_fn(y.cpu(), y_pred.cpu())\n",
    "\n",
    "    test_loss /= len(dataloader)\n",
    "    test_acc /= len(dataloader)\n",
    "    test_losses.append(test_loss.cpu())\n",
    "\n",
    "    print(f'Test_loss: {test_loss:.4f} | Test_acc: {test_acc:.4f}\\n')"
   ]
  },
  {
   "cell_type": "code",
   "execution_count": 25,
   "metadata": {
    "colab": {
     "base_uri": "https://localhost:8080/",
     "height": 309,
     "referenced_widgets": [
      "a9ae3e1b4d9b4650aad6d196532d0c16",
      "3e4e27b239ff47998f5ff364be05cbcb",
      "9714bcf6f8bf45ab91e3cc48dc804f1e",
      "fa4a170ab0714037bd5d6a52f9845b53",
      "c74710b0a1c94a8a8c02c0560fc4df84",
      "e981cf64679848709263027269fc13e1",
      "55bdaf51a00e471c9104d50e8ce1ee4a",
      "5ff3c99672334b298d94352f030b5f37",
      "9c7feca194034b399a111a54ba93418f",
      "108abcb7994349dd942acd3d54edffaa",
      "c89b7819ca8d4328a9ea71488695f4ca"
     ]
    },
    "id": "T95emfeioRGf",
    "outputId": "45ac6df9-db8e-46fa-b3f7-54078d50d15b"
   },
   "outputs": [
    {
     "data": {
      "application/vnd.jupyter.widget-view+json": {
       "model_id": "e528c5ed84774608bd070851454ce80b",
       "version_major": 2,
       "version_minor": 0
      },
      "text/plain": [
       "Training Progress:   0%|          | 0/5 [00:00<?, ?it/s]"
      ]
     },
     "metadata": {},
     "output_type": "display_data"
    },
    {
     "name": "stdout",
     "output_type": "stream",
     "text": [
      "Epoch: 0\n",
      "-------------------\n",
      "Train_loss: 0.2884 | Train_acc: 0.8973\n",
      "Test_loss: 0.3160 | Test_acc: 0.8867\n",
      "\n",
      "Epoch: 1\n",
      "-------------------\n",
      "Train_loss: 0.2676 | Train_acc: 0.9037\n",
      "Test_loss: 0.2920 | Test_acc: 0.8942\n",
      "\n",
      "Epoch: 2\n",
      "-------------------\n",
      "Train_loss: 0.2540 | Train_acc: 0.9087\n",
      "Test_loss: 0.2873 | Test_acc: 0.8979\n",
      "\n",
      "Epoch: 3\n",
      "-------------------\n",
      "Train_loss: 0.2436 | Train_acc: 0.9117\n",
      "Test_loss: 0.2819 | Test_acc: 0.9018\n",
      "\n",
      "Epoch: 4\n",
      "-------------------\n",
      "Train_loss: 0.2346 | Train_acc: 0.9153\n",
      "Test_loss: 0.2609 | Test_acc: 0.9058\n",
      "\n"
     ]
    }
   ],
   "source": [
    "from tqdm.auto import tqdm\n",
    "for epoch in tqdm(range(epochs), desc='Training Progress'):\n",
    "  print(f\"Epoch: {epoch}\\n-------------------\")\n",
    "  train_step(model, train_dl, loss_fn, accuracy_score, optimizer)\n",
    "  test_step(model, test_dl, loss_fn, accuracy_score)\n",
    "  epoch_count.append(epoch)"
   ]
  },
  {
   "cell_type": "code",
   "execution_count": 26,
   "metadata": {
    "colab": {
     "base_uri": "https://localhost:8080/",
     "height": 430
    },
    "id": "lt1ywzZtGOjm",
    "outputId": "9f0a07ed-f4a8-4cef-a13d-c1c58b9100b7"
   },
   "outputs": [
    {
     "data": {
      "image/png": "[encoded data removed]",
      "text/plain": [
       "<Figure size 640x480 with 1 Axes>"
      ]
     },
     "metadata": {},
     "output_type": "display_data"
    }
   ],
   "source": [
    "plt.plot(epoch_count, train_losses, label='Train_loss')\n",
    "plt.plot(epoch_count, test_losses, label='Test_loss')\n",
    "plt.legend()\n",
    "plt.show()"
   ]
  },
  {
   "cell_type": "code",
   "execution_count": 27,
   "metadata": {
    "id": "01grNSin9YVP"
   },
   "outputs": [],
   "source": [
    "model.eval()\n",
    "with torch.inference_mode():\n",
    "  y_preds = []\n",
    "  y_tests = []\n",
    "  for batch, (X, y) in enumerate(test_dl):\n",
    "    X, y = X.to(device), y.to(device)\n",
    "\n",
    "    y_logits = model(X)\n",
    "    y_proba = torch.softmax(y_logits, dim=1)\n",
    "    y_pred = torch.argmax(y_proba, dim=1)\n",
    "\n",
    "    y_preds.append(y_pred)\n",
    "    y_tests.append(y)\n",
    "\n",
    "y_preds_list = torch.cat(y_preds, dim=0).cpu()\n",
    "y_tests_list = torch.cat(y_tests, dim=0).cpu()"
   ]
  },
  {
   "cell_type": "code",
   "execution_count": 28,
   "metadata": {
    "colab": {
     "base_uri": "https://localhost:8080/",
     "height": 498
    },
    "id": "LPivmbHloRER",
    "outputId": "dd553f82-d0f3-4998-a6c4-929d21834867"
   },
   "outputs": [
    {
     "data": {
      "image/png": "[encoded data removed]",
      "text/plain": [
       "<Figure size 640x480 with 2 Axes>"
      ]
     },
     "metadata": {},
     "output_type": "display_data"
    }
   ],
   "source": [
    "ConfusionMatrixDisplay.from_predictions(y_tests_list, y_preds_list, display_labels=class_names)\n",
    "plt.xticks(rotation=45)\n",
    "plt.show()"
   ]
  },
  {
   "cell_type": "code",
   "execution_count": 29,
   "metadata": {
    "colab": {
     "base_uri": "https://localhost:8080/",
     "height": 907
    },
    "id": "SNp4R6ZPoRCN",
    "outputId": "e5ef26fe-8a6b-4470-a14d-bd99ca667c27"
   },
   "outputs": [
    {
     "data": {
      "image/png": "[encoded data removed]",
      "text/plain": [
       "<Figure size 600x900 with 6 Axes>"
      ]
     },
     "metadata": {},
     "output_type": "display_data"
    }
   ],
   "source": [
    "import random\n",
    "fig, axes = plt.subplots(3, 2, figsize=(6, 9))\n",
    "for n, i in enumerate(random.sample(range(1, len(test_data)), k=6)):\n",
    "  test_logits = model(test_data[i][0].unsqueeze(dim=0).to(device))\n",
    "  test_proba = torch.softmax(test_logits, dim=1)\n",
    "  test_pred = torch.argmax(test_proba, dim=1)\n",
    "\n",
    "  true_label = class_names[test_data[i][1]]\n",
    "  test_label = class_names[test_pred]\n",
    "  title_text = f'{true_label} | {test_label}'\n",
    "\n",
    "  row_idx = n // 2\n",
    "  col_idx = n % 2\n",
    "\n",
    "  # Plot the image on the corresponding subplot\n",
    "  axes[row_idx, col_idx].imshow(test_data[i][0].squeeze(dim=0), cmap='gray')\n",
    "  if true_label == test_label:\n",
    "      axes[row_idx, col_idx].set_title(title_text, color='g')\n",
    "  else:\n",
    "      axes[row_idx, col_idx].set_title(title_text, color='r')\n",
    "  plt.axis(False)\n",
    "  plt.tight_layout()"
   ]
  }
 ],
 "metadata": {
  "colab": {
   "provenance": []
  },
  "kernelspec": {
   "display_name": "Python 3 (ipykernel)",
   "language": "python",
   "name": "python3"
  },
  "language_info": {
   "codemirror_mode": {
    "name": "ipython",
    "version": 3
   },
   "file_extension": ".py",
   "mimetype": "text/x-python",
   "name": "python",
   "nbconvert_exporter": "python",
   "pygments_lexer": "ipython3",
   "version": "3.9.13"
  },
  "widgets": {
   "application/vnd.jupyter.widget-state+json": {
    "108abcb7994349dd942acd3d54edffaa": {
     "model_module": "@jupyter-widgets/base",
     "model_module_version": "1.2.0",
     "model_name": "LayoutModel",
     "state": {
      "_model_module": "@jupyter-widgets/base",
      "_model_module_version": "1.2.0",
      "_model_name": "LayoutModel",
      "_view_count": null,
      "_view_module": "@jupyter-widgets/base",
      "_view_module_version": "1.2.0",
      "_view_name": "LayoutView",
      "align_content": null,
      "align_items": null,
      "align_self": null,
      "border": null,
      "bottom": null,
      "display": null,
      "flex": null,
      "flex_flow": null,
      "grid_area": null,
      "grid_auto_columns": null,
      "grid_auto_flow": null,
      "grid_auto_rows": null,
      "grid_column": null,
      "grid_gap": null,
      "grid_row": null,
      "grid_template_areas": null,
      "grid_template_columns": null,
      "grid_template_rows": null,
      "height": null,
      "justify_content": null,
      "justify_items": null,
      "left": null,
      "margin": null,
      "max_height": null,
      "max_width": null,
      "min_height": null,
      "min_width": null,
      "object_fit": null,
      "object_position": null,
      "order": null,
      "overflow": null,
      "overflow_x": null,
      "overflow_y": null,
      "padding": null,
      "right": null,
      "top": null,
      "visibility": null,
      "width": null
     }
    },
    "3e4e27b239ff47998f5ff364be05cbcb": {
     "model_module": "@jupyter-widgets/controls",
     "model_module_version": "1.5.0",
     "model_name": "HTMLModel",
     "state": {
      "_dom_classes": [],
      "_model_module": "@jupyter-widgets/controls",
      "_model_module_version": "1.5.0",
      "_model_name": "HTMLModel",
      "_view_count": null,
      "_view_module": "@jupyter-widgets/controls",
      "_view_module_version": "1.5.0",
      "_view_name": "HTMLView",
      "description": "",
      "description_tooltip": null,
      "layout": "IPY_MODEL_e981cf64679848709263027269fc13e1",
      "placeholder": "​",
      "style": "IPY_MODEL_55bdaf51a00e471c9104d50e8ce1ee4a",
      "value": "Training Progress: 100%"
     }
    },
    "55bdaf51a00e471c9104d50e8ce1ee4a": {
     "model_module": "@jupyter-widgets/controls",
     "model_module_version": "1.5.0",
     "model_name": "DescriptionStyleModel",
     "state": {
      "_model_module": "@jupyter-widgets/controls",
      "_model_module_version": "1.5.0",
      "_model_name": "DescriptionStyleModel",
      "_view_count": null,
      "_view_module": "@jupyter-widgets/base",
      "_view_module_version": "1.2.0",
      "_view_name": "StyleView",
      "description_width": ""
     }
    },
    "5ff3c99672334b298d94352f030b5f37": {
     "model_module": "@jupyter-widgets/base",
     "model_module_version": "1.2.0",
     "model_name": "LayoutModel",
     "state": {
      "_model_module": "@jupyter-widgets/base",
      "_model_module_version": "1.2.0",
      "_model_name": "LayoutModel",
      "_view_count": null,
      "_view_module": "@jupyter-widgets/base",
      "_view_module_version": "1.2.0",
      "_view_name": "LayoutView",
      "align_content": null,
      "align_items": null,
      "align_self": null,
      "border": null,
      "bottom": null,
      "display": null,
      "flex": null,
      "flex_flow": null,
      "grid_area": null,
      "grid_auto_columns": null,
      "grid_auto_flow": null,
      "grid_auto_rows": null,
      "grid_column": null,
      "grid_gap": null,
      "grid_row": null,
      "grid_template_areas": null,
      "grid_template_columns": null,
      "grid_template_rows": null,
      "height": null,
      "justify_content": null,
      "justify_items": null,
      "left": null,
      "margin": null,
      "max_height": null,
      "max_width": null,
      "min_height": null,
      "min_width": null,
      "object_fit": null,
      "object_position": null,
      "order": null,
      "overflow": null,
      "overflow_x": null,
      "overflow_y": null,
      "padding": null,
      "right": null,
      "top": null,
      "visibility": null,
      "width": null
     }
    },
    "9714bcf6f8bf45ab91e3cc48dc804f1e": {
     "model_module": "@jupyter-widgets/controls",
     "model_module_version": "1.5.0",
     "model_name": "FloatProgressModel",
     "state": {
      "_dom_classes": [],
      "_model_module": "@jupyter-widgets/controls",
      "_model_module_version": "1.5.0",
      "_model_name": "FloatProgressModel",
      "_view_count": null,
      "_view_module": "@jupyter-widgets/controls",
      "_view_module_version": "1.5.0",
      "_view_name": "ProgressView",
      "bar_style": "success",
      "description": "",
      "description_tooltip": null,
      "layout": "IPY_MODEL_5ff3c99672334b298d94352f030b5f37",
      "max": 3,
      "min": 0,
      "orientation": "horizontal",
      "style": "IPY_MODEL_9c7feca194034b399a111a54ba93418f",
      "value": 3
     }
    },
    "9c7feca194034b399a111a54ba93418f": {
     "model_module": "@jupyter-widgets/controls",
     "model_module_version": "1.5.0",
     "model_name": "ProgressStyleModel",
     "state": {
      "_model_module": "@jupyter-widgets/controls",
      "_model_module_version": "1.5.0",
      "_model_name": "ProgressStyleModel",
      "_view_count": null,
      "_view_module": "@jupyter-widgets/base",
      "_view_module_version": "1.2.0",
      "_view_name": "StyleView",
      "bar_color": null,
      "description_width": ""
     }
    },
    "a9ae3e1b4d9b4650aad6d196532d0c16": {
     "model_module": "@jupyter-widgets/controls",
     "model_module_version": "1.5.0",
     "model_name": "HBoxModel",
     "state": {
      "_dom_classes": [],
      "_model_module": "@jupyter-widgets/controls",
      "_model_module_version": "1.5.0",
      "_model_name": "HBoxModel",
      "_view_count": null,
      "_view_module": "@jupyter-widgets/controls",
      "_view_module_version": "1.5.0",
      "_view_name": "HBoxView",
      "box_style": "",
      "children": [
       "IPY_MODEL_3e4e27b239ff47998f5ff364be05cbcb",
       "IPY_MODEL_9714bcf6f8bf45ab91e3cc48dc804f1e",
       "IPY_MODEL_fa4a170ab0714037bd5d6a52f9845b53"
      ],
      "layout": "IPY_MODEL_c74710b0a1c94a8a8c02c0560fc4df84"
     }
    },
    "c74710b0a1c94a8a8c02c0560fc4df84": {
     "model_module": "@jupyter-widgets/base",
     "model_module_version": "1.2.0",
     "model_name": "LayoutModel",
     "state": {
      "_model_module": "@jupyter-widgets/base",
      "_model_module_version": "1.2.0",
      "_model_name": "LayoutModel",
      "_view_count": null,
      "_view_module": "@jupyter-widgets/base",
      "_view_module_version": "1.2.0",
      "_view_name": "LayoutView",
      "align_content": null,
      "align_items": null,
      "align_self": null,
      "border": null,
      "bottom": null,
      "display": null,
      "flex": null,
      "flex_flow": null,
      "grid_area": null,
      "grid_auto_columns": null,
      "grid_auto_flow": null,
      "grid_auto_rows": null,
      "grid_column": null,
      "grid_gap": null,
      "grid_row": null,
      "grid_template_areas": null,
      "grid_template_columns": null,
      "grid_template_rows": null,
      "height": null,
      "justify_content": null,
      "justify_items": null,
      "left": null,
      "margin": null,
      "max_height": null,
      "max_width": null,
      "min_height": null,
      "min_width": null,
      "object_fit": null,
      "object_position": null,
      "order": null,
      "overflow": null,
      "overflow_x": null,
      "overflow_y": null,
      "padding": null,
      "right": null,
      "top": null,
      "visibility": null,
      "width": null
     }
    },
    "c89b7819ca8d4328a9ea71488695f4ca": {
     "model_module": "@jupyter-widgets/controls",
     "model_module_version": "1.5.0",
     "model_name": "DescriptionStyleModel",
     "state": {
      "_model_module": "@jupyter-widgets/controls",
      "_model_module_version": "1.5.0",
      "_model_name": "DescriptionStyleModel",
      "_view_count": null,
      "_view_module": "@jupyter-widgets/base",
      "_view_module_version": "1.2.0",
      "_view_name": "StyleView",
      "description_width": ""
     }
    },
    "e981cf64679848709263027269fc13e1": {
     "model_module": "@jupyter-widgets/base",
     "model_module_version": "1.2.0",
     "model_name": "LayoutModel",
     "state": {
      "_model_module": "@jupyter-widgets/base",
      "_model_module_version": "1.2.0",
      "_model_name": "LayoutModel",
      "_view_count": null,
      "_view_module": "@jupyter-widgets/base",
      "_view_module_version": "1.2.0",
      "_view_name": "LayoutView",
      "align_content": null,
      "align_items": null,
      "align_self": null,
      "border": null,
      "bottom": null,
      "display": null,
      "flex": null,
      "flex_flow": null,
      "grid_area": null,
      "grid_auto_columns": null,
      "grid_auto_flow": null,
      "grid_auto_rows": null,
      "grid_column": null,
      "grid_gap": null,
      "grid_row": null,
      "grid_template_areas": null,
      "grid_template_columns": null,
      "grid_template_rows": null,
      "height": null,
      "justify_content": null,
      "justify_items": null,
      "left": null,
      "margin": null,
      "max_height": null,
      "max_width": null,
      "min_height": null,
      "min_width": null,
      "object_fit": null,
      "object_position": null,
      "order": null,
      "overflow": null,
      "overflow_x": null,
      "overflow_y": null,
      "padding": null,
      "right": null,
      "top": null,
      "visibility": null,
      "width": null
     }
    },
    "fa4a170ab0714037bd5d6a52f9845b53": {
     "model_module": "@jupyter-widgets/controls",
     "model_module_version": "1.5.0",
     "model_name": "HTMLModel",
     "state": {
      "_dom_classes": [],
      "_model_module": "@jupyter-widgets/controls",
      "_model_module_version": "1.5.0",
      "_model_name": "HTMLModel",
      "_view_count": null,
      "_view_module": "@jupyter-widgets/controls",
      "_view_module_version": "1.5.0",
      "_view_name": "HTMLView",
      "description": "",
      "description_tooltip": null,
      "layout": "IPY_MODEL_108abcb7994349dd942acd3d54edffaa",
      "placeholder": "​",
      "style": "IPY_MODEL_c89b7819ca8d4328a9ea71488695f4ca",
      "value": " 3/3 [03:28&lt;00:00, 70.41s/it]"
     }
    }
   }
  }
 },
 "nbformat": 4,
 "nbformat_minor": 1
}
